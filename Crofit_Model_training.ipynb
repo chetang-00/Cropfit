{
  "nbformat": 4,
  "nbformat_minor": 0,
  "metadata": {
    "accelerator": "GPU",
    "colab": {
      "provenance": []
    },
    "kernelspec": {
      "display_name": "Python 3",
      "name": "python3"
    }
  },
  "cells": [
    {
      "cell_type": "markdown",
      "metadata": {
        "id": "kTdhE8cZ_jJW"
      },
      "source": [
        "# `Mounting the Dataset`\n",
        "Using Corn Dataset from Kaggle\n",
        ""
      ]
    },
    {
      "cell_type": "code",
      "metadata": {
        "id": "RVCGkdwogKPt"
      },
      "source": [
        "#mounting drive\n",
        "from google.colab import drive\n",
        "drive.mount('/content/gdrive', force_remount=True)"
      ],
      "execution_count": null,
      "outputs": []
    },
    {
      "cell_type": "code",
      "metadata": {
        "id": "HkbbwlB8hgez"
      },
      "source": [
        "import os\n",
        "os.environ['KAGGLE_CONFIG_DIR'] = \"/content/gdrive/My Drive/Kaggle\""
      ],
      "execution_count": null,
      "outputs": []
    },
    {
      "cell_type": "code",
      "source": [],
      "metadata": {
        "id": "RyM4rFIgI2IN"
      },
      "execution_count": null,
      "outputs": []
    },
    {
      "cell_type": "code",
      "metadata": {
        "id": "vcFDXTxYhuzk"
      },
      "source": [
        "%cd /content/gdrive/MyDrive/Kaggle"
      ],
      "execution_count": null,
      "outputs": []
    },
    {
      "cell_type": "markdown",
      "metadata": {
        "id": "7t4rcphqCqK1"
      },
      "source": [
        "# `1.Import Libraries.`"
      ]
    },
    {
      "cell_type": "code",
      "metadata": {
        "id": "-RwC6NU7EmDb"
      },
      "source": [
        "from google.colab import drive\n",
        "drive.mount('/content/drive',force_remount= True)"
      ],
      "execution_count": null,
      "outputs": []
    },
    {
      "cell_type": "code",
      "metadata": {
        "id": "o9XcN_vmg38P"
      },
      "source": [
        "import warnings\n",
        "warnings.filterwarnings(\"ignore\")\n",
        "import os\n",
        "import glob\n",
        "import matplotlib.pyplot as plt\n",
        "import numpy as np\n",
        "\n",
        "import keras\n",
        "from keras.models import Sequential\n",
        "from keras.layers import Dense,Dropout,Flatten\n",
        "from keras.layers import Conv2D,MaxPooling2D,Activation\n",
        "from keras.preprocessing.image import ImageDataGenerator\n"
      ],
      "execution_count": null,
      "outputs": []
    },
    {
      "cell_type": "markdown",
      "metadata": {
        "id": "8EJ2OkcwC-xy"
      },
      "source": [
        "# `2.Load Data into Train and Test Dataset.`"
      ]
    },
    {
      "cell_type": "code",
      "metadata": {
        "id": "3KoUJXj9ik2_"
      },
      "source": [
        "#Loading  train and test data from drive\n",
        "train_dir =\"/content/drive/MyDrive/Kaggle/CornTrain\"\n",
        "test_dir=\"/content/drive/MyDrive/Kaggle/test\""
      ],
      "execution_count": null,
      "outputs": []
    },
    {
      "cell_type": "markdown",
      "metadata": {
        "id": "dPfOAeA8DZ9b"
      },
      "source": [
        "# `3.Function To count Images In Each Data Set.`"
      ]
    },
    {
      "cell_type": "code",
      "metadata": {
        "id": "CGx5-TibjLMn"
      },
      "source": [
        "#function to get no.of images\n",
        "def get_files(directory):\n",
        "  if not os.path.exists(directory):\n",
        "    return 0\n",
        "  count=0\n",
        "  for current_path,dirs,files in os.walk(directory):\n",
        "    for dr in dirs:\n",
        "      count+= len(glob.glob(os.path.join(current_path,dr+\"/*\")))\n",
        "  return count"
      ],
      "execution_count": null,
      "outputs": []
    },
    {
      "cell_type": "code",
      "metadata": {
        "id": "uE1cHgPijwx1"
      },
      "source": [
        "num_train_samples = get_files(train_dir)\n",
        "num_classes = len(glob.glob(train_dir+\"/*\"))\n",
        "num_test_samples = get_files(test_dir)\n",
        "print(num_classes,\"Classes\")\n",
        "print(num_train_samples,\"Train images\")\n",
        "print(num_test_samples,\"Test images\")"
      ],
      "execution_count": null,
      "outputs": []
    },
    {
      "cell_type": "markdown",
      "metadata": {
        "id": "qu0bXnBsNuIV"
      },
      "source": [
        "# 4. Data Augmentation"
      ]
    },
    {
      "cell_type": "code",
      "metadata": {
        "id": "d-CTlyJ_usrY"
      },
      "source": [
        "# Preprocessing data.\n",
        "train_datagen = ImageDataGenerator(rescale=1./255,\n",
        "                                   shear_range=0.2,\n",
        "                                   zoom_range=0.2,\n",
        "                                   validation_split=0.2,\n",
        "                                   horizontal_flip=True)\n",
        "test_datagen = ImageDataGenerator(rescale=1./255)"
      ],
      "execution_count": null,
      "outputs": []
    },
    {
      "cell_type": "code",
      "metadata": {
        "id": "H8NqDpMysS_K"
      },
      "source": [
        "img_width,img_height = 256,256\n",
        "input_shape=(img_width,img_height,3)\n",
        "batch_size = 64\n",
        "\n",
        "train_generator = train_datagen.flow_from_directory(train_dir,\n",
        "                                                   target_size=(img_width,img_height),\n",
        "                                                   batch_size=batch_size)\n",
        "test_generator = test_datagen.flow_from_directory(test_dir,shuffle=True,\n",
        "                                                   target_size=(img_width,img_height),\n",
        "                                                   batch_size=batch_size)"
      ],
      "execution_count": null,
      "outputs": []
    },
    {
      "cell_type": "code",
      "metadata": {
        "id": "RMBDe-RLg1Na",
        "colab": {
          "base_uri": "https://localhost:8080/",
          "height": 178
        },
        "outputId": "1c8f51d4-6de7-4d4c-9c35-15c8cf3585b5"
      },
      "source": [
        "# The name of the 12 diseases.\n",
        "train_generator.class_indices"
      ],
      "execution_count": null,
      "outputs": [
        {
          "output_type": "error",
          "ename": "NameError",
          "evalue": "ignored",
          "traceback": [
            "\u001b[0;31m---------------------------------------------------------------------------\u001b[0m",
            "\u001b[0;31mNameError\u001b[0m                                 Traceback (most recent call last)",
            "\u001b[0;32m<ipython-input-1-d3a88b0ec29c>\u001b[0m in \u001b[0;36m<module>\u001b[0;34m()\u001b[0m\n\u001b[1;32m      1\u001b[0m \u001b[0;31m# The name of the 12 diseases.\u001b[0m\u001b[0;34m\u001b[0m\u001b[0;34m\u001b[0m\u001b[0;34m\u001b[0m\u001b[0m\n\u001b[0;32m----> 2\u001b[0;31m \u001b[0mtrain_generator\u001b[0m\u001b[0;34m.\u001b[0m\u001b[0mclass_indices\u001b[0m\u001b[0;34m\u001b[0m\u001b[0;34m\u001b[0m\u001b[0m\n\u001b[0m",
            "\u001b[0;31mNameError\u001b[0m: name 'train_generator' is not defined"
          ]
        }
      ]
    },
    {
      "cell_type": "markdown",
      "metadata": {
        "id": "EIffvBpe-y8N"
      },
      "source": [
        "# `5.CNN Parameter Building.`"
      ]
    },
    {
      "cell_type": "code",
      "metadata": {
        "id": "13Udl2y5U6X3"
      },
      "source": [
        "#CNN model\n",
        "model = Sequential()\n",
        "model.add(Conv2D(32, (3, 3),input_shape=input_shape,activation='relu'))\n",
        "model.add(MaxPooling2D(pool_size=(2, 2)))\n",
        "model.add(Conv2D(32, (3, 3),activation='relu'))\n",
        "model.add(MaxPooling2D(pool_size=(2, 2)))\n",
        "model.add(Conv2D(64, (3, 3),activation='relu'))\n",
        "model.add(MaxPooling2D(pool_size=(2, 2)))\n",
        "model.add(Flatten())\n",
        "model.add(Dense(512,activation='relu'))\n",
        "model.add(Dropout(0.25))\n",
        "model.add(Dense(128,activation='relu'))\n",
        "model.add(Dense(num_classes,activation='softmax'))\n",
        "model.summary()"
      ],
      "execution_count": null,
      "outputs": []
    },
    {
      "cell_type": "code",
      "metadata": {
        "id": "uEpegULD-jHG"
      },
      "source": [
        "from keras.preprocessing import image\n",
        "import numpy as np\n",
        "img1 = image.load_img('/content/drive/MyDrive/Kaggle/CornTrain/Blight/Corn_Blight (1011).jpg')\n",
        "plt.imshow(img1);\n",
        "\n",
        "img1 = image.load_img('/content/drive/MyDrive/Kaggle/CornTrain/Blight/Corn_Blight (1011).jpg', target_size=(256, 256))\n",
        "img = image.img_to_array(img1)\n",
        "img = img/255\n",
        "img = np.expand_dims(img, axis=0)"
      ],
      "execution_count": null,
      "outputs": []
    },
    {
      "cell_type": "markdown",
      "metadata": {
        "id": "1rgxVYpLGS9d"
      },
      "source": [
        "# `5.Visualizing The Image After Every Layer.`"
      ]
    },
    {
      "cell_type": "code",
      "metadata": {
        "id": "Aba-2LAMVAvy"
      },
      "source": [
        "from keras.models import Model\n",
        "conv2d_op = Model(inputs=model.input, outputs=model.get_layer('conv2d').output)\n",
        "max_pooling2d_op = Model(inputs=model.input,outputs=model.get_layer('max_pooling2d').output)\n",
        "conv2d_1_op = Model(inputs=model.input,outputs=model.get_layer('conv2d_1').output)\n",
        "max_pooling2d_1_op = Model(inputs=model.input,outputs=model.get_layer('max_pooling2d_1').output)\n",
        "conv2d_2_op = Model(inputs=model.input,outputs=model.get_layer('conv2d_2').output)\n",
        "max_pooling2d_2_op = Model(inputs=model.input,outputs=model.get_layer('max_pooling2d_2').output)\n",
        "conv2d_features = conv2d_op.predict(img)\n",
        "max_pooling2d_features = max_pooling2d_op.predict(img)\n",
        "conv2d_1_features = conv2d_1_op.predict(img)\n",
        "max_pooling2d_1_features = max_pooling2d_1_op.predict(img)\n",
        "conv2d_2_features = conv2d_2_op.predict(img)\n",
        "max_pooling2d_2_features = max_pooling2d_2_op.predict(img)"
      ],
      "execution_count": null,
      "outputs": []
    },
    {
      "cell_type": "code",
      "metadata": {
        "id": "5Wu8JY_FbaHu"
      },
      "source": [
        "import matplotlib.image as mpimg\n",
        "\n",
        "fig=plt.figure(figsize=(14,7))\n",
        "columns = 8\n",
        "rows = 4\n",
        "for i in range(columns*rows):\n",
        "    fig.add_subplot(rows, columns, i+1)\n",
        "    plt.axis('off')\n",
        "    plt.title('filter'+str(i))\n",
        "    plt.imshow(conv2d_features[0, :, :, i], cmap='viridis') # Visualizing in color mode.\n",
        "plt.show()"
      ],
      "execution_count": null,
      "outputs": []
    },
    {
      "cell_type": "code",
      "metadata": {
        "id": "EhD7gO5ieRX-"
      },
      "source": [
        "import matplotlib.image as mpimg\n",
        "\n",
        "fig=plt.figure(figsize=(14,7))\n",
        "columns = 8\n",
        "rows = 4\n",
        "for i in range(columns*rows):\n",
        "    fig.add_subplot(rows, columns, i+1)\n",
        "    plt.axis('off')\n",
        "    plt.title('filter'+str(i))\n",
        "    plt.imshow(max_pooling2d_features[0, :, :, i], cmap='viridis')\n",
        "plt.show()"
      ],
      "execution_count": null,
      "outputs": []
    },
    {
      "cell_type": "code",
      "metadata": {
        "id": "1YgyE3AdcAO2"
      },
      "source": [
        "import matplotlib.image as mpimg\n",
        "\n",
        "fig=plt.figure(figsize=(14,7))\n",
        "columns = 8\n",
        "rows = 4\n",
        "for i in range(columns*rows):\n",
        "    fig.add_subplot(rows, columns, i+1)\n",
        "    plt.axis('off')\n",
        "    plt.title('filter'+str(i))\n",
        "    plt.imshow(conv2d_1_features[0, :, :, i], cmap='viridis')\n",
        "plt.show()"
      ],
      "execution_count": null,
      "outputs": []
    },
    {
      "cell_type": "code",
      "metadata": {
        "id": "mNhrHwPJeljn"
      },
      "source": [
        "\n",
        "import matplotlib.image as mpimg\n",
        "\n",
        "fig=plt.figure(figsize=(14,7))\n",
        "columns = 8\n",
        "rows = 4\n",
        "for i in range(columns*rows):\n",
        "    fig.add_subplot(rows, columns, i+1)\n",
        "    plt.axis('off')\n",
        "    plt.title('filter'+str(i))\n",
        "    plt.imshow(max_pooling2d_1_features[0, :, :, i], cmap='viridis')\n",
        "plt.show()"
      ],
      "execution_count": null,
      "outputs": []
    },
    {
      "cell_type": "code",
      "metadata": {
        "id": "nChpdw5FWOoi"
      },
      "source": [
        "import matplotlib.image as mpimg\n",
        "\n",
        "fig=plt.figure(figsize=(14,7))\n",
        "columns = 8\n",
        "rows = 4\n",
        "for i in range(columns*rows):\n",
        "    fig.add_subplot(rows, columns, i+1)\n",
        "    plt.axis('off')\n",
        "    plt.title('filter'+str(i))\n",
        "    plt.imshow(conv2d_2_features[0, :, :, i], cmap='viridis')\n",
        "plt.show()"
      ],
      "execution_count": null,
      "outputs": []
    },
    {
      "cell_type": "code",
      "metadata": {
        "id": "1HGiPi6FWUQ0"
      },
      "source": [
        "import matplotlib.image as mpimg\n",
        "\n",
        "fig=plt.figure(figsize=(14,7))\n",
        "columns = 8\n",
        "rows = 4\n",
        "for i in range(columns*rows):\n",
        "    fig.add_subplot(rows, columns, i+1)\n",
        "    plt.axis('off')\n",
        "    plt.title('filter'+str(i))\n",
        "    plt.imshow(max_pooling2d_2_features[0, :, :, i], cmap='viridis')\n",
        "plt.show()"
      ],
      "execution_count": null,
      "outputs": []
    },
    {
      "cell_type": "markdown",
      "metadata": {
        "id": "txZYUHCYAnbm"
      },
      "source": [
        "# `6.Training The Model.`"
      ]
    },
    {
      "cell_type": "code",
      "metadata": {
        "id": "qv_ow-jPBDnQ",
        "colab": {
          "base_uri": "https://localhost:8080/"
        },
        "outputId": "78298fc9-bc8e-46d0-a0e4-ac091edbf5c9"
      },
      "source": [
        "validation_generator = train_datagen.flow_from_directory(train_dir,target_size=(img_height, img_width),\n",
        "    batch_size=batch_size)"
      ],
      "execution_count": null,
      "outputs": [
        {
          "output_type": "stream",
          "text": [
            "Found 4188 images belonging to 4 classes.\n"
          ],
          "name": "stdout"
        }
      ]
    },
    {
      "cell_type": "code",
      "metadata": {
        "id": "d1GPempn06uE",
        "colab": {
          "base_uri": "https://localhost:8080/",
          "height": 246
        },
        "outputId": "6e2778fc-8c48-4884-f636-1b0c3b7d7c3e"
      },
      "source": [
        "# Model building to get trained with parameters.\n",
        "opt = keras.optimizers.Adam(lr=0.001)\n",
        "model.compile(optimizer = opt,loss = 'categorical_crossentropy', metrics = ['accuracy'])\n",
        "train=model.fit_generator(train_generator,\n",
        "                          epochs = 9,\n",
        "                          steps_per_epoch = train_generator.samples // batch_size,\n",
        "                          validation_data = validation_generator,\n",
        "                          validation_steps = validation_generator.samples // batch_size,verbose=1)\n"
      ],
      "execution_count": null,
      "outputs": [
        {
          "output_type": "error",
          "ename": "AttributeError",
          "evalue": "ignored",
          "traceback": [
            "\u001b[0;31m---------------------------------------------------------------------------\u001b[0m",
            "\u001b[0;31mAttributeError\u001b[0m                            Traceback (most recent call last)",
            "\u001b[0;32m<ipython-input-4-193ba5c9bbb0>\u001b[0m in \u001b[0;36m<module>\u001b[0;34m()\u001b[0m\n\u001b[1;32m      1\u001b[0m \u001b[0;31m# Model building to get trained with parameters.\u001b[0m\u001b[0;34m\u001b[0m\u001b[0;34m\u001b[0m\u001b[0;34m\u001b[0m\u001b[0m\n\u001b[0;32m----> 2\u001b[0;31m \u001b[0mopt\u001b[0m \u001b[0;34m=\u001b[0m \u001b[0mkeras\u001b[0m\u001b[0;34m.\u001b[0m\u001b[0moptimizers\u001b[0m\u001b[0;34m.\u001b[0m\u001b[0mAdam\u001b[0m\u001b[0;34m(\u001b[0m\u001b[0mlr\u001b[0m\u001b[0;34m=\u001b[0m\u001b[0;36m0.001\u001b[0m\u001b[0;34m)\u001b[0m\u001b[0;34m\u001b[0m\u001b[0;34m\u001b[0m\u001b[0m\n\u001b[0m\u001b[1;32m      3\u001b[0m \u001b[0mmodel\u001b[0m\u001b[0;34m.\u001b[0m\u001b[0mcompile\u001b[0m\u001b[0;34m(\u001b[0m\u001b[0moptimizer\u001b[0m \u001b[0;34m=\u001b[0m \u001b[0mopt\u001b[0m\u001b[0;34m,\u001b[0m\u001b[0mloss\u001b[0m \u001b[0;34m=\u001b[0m \u001b[0;34m'categorical_crossentropy'\u001b[0m\u001b[0;34m,\u001b[0m \u001b[0mmetrics\u001b[0m \u001b[0;34m=\u001b[0m \u001b[0;34m[\u001b[0m\u001b[0;34m'accuracy'\u001b[0m\u001b[0;34m]\u001b[0m\u001b[0;34m)\u001b[0m\u001b[0;34m\u001b[0m\u001b[0;34m\u001b[0m\u001b[0m\n\u001b[1;32m      4\u001b[0m train=model.fit_generator(train_generator,\n\u001b[1;32m      5\u001b[0m                           \u001b[0mepochs\u001b[0m \u001b[0;34m=\u001b[0m \u001b[0;36m9\u001b[0m\u001b[0;34m,\u001b[0m\u001b[0;34m\u001b[0m\u001b[0;34m\u001b[0m\u001b[0m\n",
            "\u001b[0;31mAttributeError\u001b[0m: module 'keras.optimizers' has no attribute 'Adam'"
          ]
        }
      ]
    },
    {
      "cell_type": "markdown",
      "metadata": {
        "id": "AYpo1Sr5AXv-"
      },
      "source": [
        "# `7.Plot For Accuracy And Losses.`"
      ]
    },
    {
      "cell_type": "code",
      "metadata": {
        "id": "O_SLJxPxvORf"
      },
      "source": [
        "acc = train.history['accuracy']\n",
        "val_acc = train.history['val_accuracy']\n",
        "loss = train.history['loss']\n",
        "val_loss = train.history['val_loss']\n",
        "epochs = range(1, len(acc) + 1)\n",
        "#Train and validation accuracy\n",
        "plt.plot(epochs, acc, 'b', label='Training accurarcy')\n",
        "plt.plot(epochs, val_acc, 'r', label='Validation accurarcy')\n",
        "plt.title('Training and Validation accurarcy')\n",
        "plt.legend()\n",
        "\n",
        "plt.figure()\n",
        "#Train and validation loss\n",
        "plt.plot(epochs, loss, 'b', label='Training loss')\n",
        "plt.plot(epochs, val_loss, 'r', label='Validation loss')\n",
        "plt.title('Training and Validation loss')\n",
        "plt.legend()\n",
        "plt.show()"
      ],
      "execution_count": null,
      "outputs": []
    },
    {
      "cell_type": "markdown",
      "metadata": {
        "id": "T2qQ20VwUPvO"
      },
      "source": [
        "# `8. Evaluate model using unseen data.`\n"
      ]
    },
    {
      "cell_type": "code",
      "metadata": {
        "id": "sWsPrcGkWBYC"
      },
      "source": [
        "score,accuracy = model.evaluate(test_generator,verbose=1)\n",
        "print(\"Test score is {}\".format(score))\n",
        "print(\"Test accuracy is {}\".format(accuracy))"
      ],
      "execution_count": null,
      "outputs": []
    },
    {
      "cell_type": "markdown",
      "metadata": {
        "id": "BYs8zwNeAJE-"
      },
      "source": [
        "# `9.Saving Model.`"
      ]
    },
    {
      "cell_type": "code",
      "metadata": {
        "id": "xZuavjSmz6wb"
      },
      "source": [
        "from keras.models import load_model\n",
        "model.save('corn.h5')"
      ],
      "execution_count": null,
      "outputs": []
    },
    {
      "cell_type": "code",
      "metadata": {
        "id": "sF46Kp3JEEfT"
      },
      "source": [
        "from keras.models import load_model\n",
        "model.save_weights('corn_weights.h5')"
      ],
      "execution_count": null,
      "outputs": []
    },
    {
      "cell_type": "markdown",
      "metadata": {
        "id": "SwbrCZY8_41b"
      },
      "source": [
        "# `10.Load Model.`"
      ]
    },
    {
      "cell_type": "code",
      "metadata": {
        "id": "pFeWlgy_5oSy"
      },
      "source": [
        "from keras.models import load_model\n",
        "model=load_model('corn.h5')\n",
        "\n",
        "Classes = ['Blight','Common Rust','Grey Leaf Spot', 'Healthy']"
      ],
      "execution_count": null,
      "outputs": []
    },
    {
      "cell_type": "markdown",
      "metadata": {
        "id": "u3w5ndzU_Qqi"
      },
      "source": [
        "# `11.Time For Predictions.`"
      ]
    },
    {
      "cell_type": "code",
      "metadata": {
        "id": "7Crovs5tgVpx"
      },
      "source": [
        "import numpy as np\n",
        "import matplotlib.pyplot as plt\n",
        "\n",
        "img_width=256\n",
        "img_height=256\n",
        "\n",
        "from keras.preprocessing import image\n",
        "\n",
        "def prepare(img_path):\n",
        "    img = image.load_img(img_path, target_size=(256, 256))\n",
        "    x = image.img_to_array(img)\n",
        "    x = x/255\n",
        "    return np.expand_dims(x, axis=0)\n",
        "\n",
        "\n",
        "result = model.predict_classes([prepare('/content/drive/MyDrive/Kaggle/test/Common_Rust/Corn_Common_Rust (10).jpg')])\n",
        "disease=image.load_img('/content/drive/MyDrive/Kaggle/test/Common_Rust/Corn_Common_Rust (10).jpg')\n",
        "plt.imshow(disease)\n",
        "print (Classes[int(result)])"
      ],
      "execution_count": null,
      "outputs": []
    },
    {
      "cell_type": "markdown",
      "metadata": {
        "id": "EXsCoNhv8_oE"
      },
      "source": [
        "# `12.Convert Model To \"tflite format.\"`.\n"
      ]
    },
    {
      "cell_type": "code",
      "metadata": {
        "id": "9oaFo9BH-Bgh"
      },
      "source": [
        "import tensorflow as tf\n",
        "from tensorflow import lite\n",
        "load_corn_model= tf.keras.models.load_model(filepath=\"corn.h5\")\n",
        "tflite_converter = tf.lite.TFLiteConverter.from_keras_model(load_corn_model)\n",
        "corn_tflite_model = tflite_converter.convert()\n",
        "open(\"corntflite_model.tflite\", \"wb\").write(corn_tflite_model)"
      ],
      "execution_count": null,
      "outputs": []
    }
  ]
}